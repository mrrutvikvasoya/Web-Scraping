{
 "cells": [
  {
   "cell_type": "markdown",
   "id": "9685ff4b",
   "metadata": {},
   "source": [
    "### **Overview of the code:**\n",
    "\n",
    "This module provides functionality to download images from a list of URLs into a specified directory structure.\n",
    "\n",
    "#### **Components and Functionalities**\n",
    "\n",
    "1. **Imports**:\n",
    "   - Imports necessary modules (`requests`, `os`, `hashlib`).\n",
    "\n",
    "2. **Function: `download_images(image_urls, save_path, domain_folder)`**:\n",
    "   - Downloads images from a list of URLs to a specified folder.\n",
    "   - **Args**:\n",
    "     - `image_urls (list)`: List of image URLs to download.\n",
    "     - `save_path (str)`: Path where images should be saved.\n",
    "     - `domain_folder (str)`: Folder name based on the domain to store images.\n",
    "   - **Return**:\n",
    "     - Creates the full directory path using `os.path.join` and `os.makedirs` if it doesn't exist.\n",
    "     - Iterates through each image URL, generates a unique filename using `hashlib.md5`, and saves the image data to a file using `requests.get`.\n",
    "\n",
    "#### **Detailed Method Descriptions**\n",
    "\n",
    "- **`download_images(image_urls, save_path, domain_folder)`**:\n",
    "  - Creates a directory structure based on `save_path` and `domain_folder`.\n",
    "  - Downloads each image from `image_urls`, writes it to disk, and prints a success message for each download.\n",
    "  - Handles exceptions gracefully and prints an error message if any exception occurs.\n"
   ]
  },
  {
   "cell_type": "code",
   "execution_count": null,
   "id": "5b05a0d9-dd57-48bf-bfb0-82805effa794",
   "metadata": {},
   "outputs": [],
   "source": [
    "\"\"\"\n",
    "Module for downloading images.\n",
    "\"\"\"\n",
    "import requests\n",
    "import os\n",
    "import hashlib\n",
    "\n",
    "def download_images(image_urls, save_path, domain_folder):\n",
    "    \"\"\"\n",
    "    Download images to a specified folder.\n",
    "\n",
    "    Args:\n",
    "        image_urls (list): List of image URLs.\n",
    "        save_path (str): The path where images should be saved.\n",
    "        domain_folder (str): The folder name based on the domain.\n",
    "    \"\"\"\n",
    "    try:\n",
    "        # Create the full directory path\n",
    "        directory = os.path.join(save_path, domain_folder)\n",
    "        if not os.path.exists(directory):\n",
    "            os.makedirs(directory)  # Create directory if it doesn't exist\n",
    "\n",
    "        # Download each image\n",
    "        for img_url in image_urls:\n",
    "            img_name = hashlib.md5(img_url.encode()).hexdigest() + '.jpg'  # Generate a unique filename\n",
    "            imge_path = os.path.join(directory, img_name)\n",
    "            with open(imge_path, 'wb') as img_file:\n",
    "                img_data = requests.get(img_url).content\n",
    "                img_file.write(img_data)  # Write image data to file\n",
    "            print(f\"Downloaded: {img_url}\")\n",
    "    except Exception as e:\n",
    "        print(f\"Error: {e}\")\n",
    "\n"
   ]
  }
 ],
 "metadata": {
  "kernelspec": {
   "display_name": "Python 3 (ipykernel)",
   "language": "python",
   "name": "python3"
  },
  "language_info": {
   "codemirror_mode": {
    "name": "ipython",
    "version": 3
   },
   "file_extension": ".py",
   "mimetype": "text/x-python",
   "name": "python",
   "nbconvert_exporter": "python",
   "pygments_lexer": "ipython3",
   "version": "3.11.7"
  }
 },
 "nbformat": 4,
 "nbformat_minor": 5
}
